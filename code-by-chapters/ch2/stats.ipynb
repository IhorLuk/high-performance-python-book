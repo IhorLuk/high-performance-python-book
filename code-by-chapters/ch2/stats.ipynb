{
 "cells": [
  {
   "cell_type": "code",
   "execution_count": 1,
   "metadata": {},
   "outputs": [],
   "source": [
    "import pstats\n",
    "\n",
    "p = pstats.Stats('profile.stats')"
   ]
  },
  {
   "cell_type": "code",
   "execution_count": 2,
   "metadata": {},
   "outputs": [
    {
     "data": {
      "text/plain": [
       "<pstats.Stats at 0x7fda0ffcc4f0>"
      ]
     },
     "execution_count": 2,
     "metadata": {},
     "output_type": "execute_result"
    }
   ],
   "source": [
    "p.sort_stats('cumulative')"
   ]
  },
  {
   "cell_type": "code",
   "execution_count": 3,
   "metadata": {},
   "outputs": [
    {
     "name": "stdout",
     "output_type": "stream",
     "text": [
      "Thu Jul 27 13:02:29 2023    profile.stats\n",
      "\n",
      "         36222015 function calls in 9.406 seconds\n",
      "\n",
      "   Ordered by: cumulative time\n",
      "\n",
      "   ncalls  tottime  percall  cumtime  percall filename:lineno(function)\n",
      "        1    0.000    0.000    9.406    9.406 {built-in method builtins.exec}\n",
      "        1    0.022    0.022    9.406    9.406 ch2_wt_decorators.py:1(<module>)\n",
      "        1    0.417    0.417    9.384    9.384 ch2_wt_decorators.py:28(calc_pure_python)\n",
      "        1    0.000    0.000    8.872    8.872 ch2_wt_decorators.py:5(measure_time)\n",
      "        1    6.702    6.702    8.872    8.872 ch2_wt_decorators.py:14(calculate_z_serial_purepython)\n",
      " 34219980    2.169    0.000    2.169    0.000 {built-in method builtins.abs}\n",
      "  2002000    0.089    0.000    0.089    0.000 {method 'append' of 'list' objects}\n",
      "        1    0.006    0.006    0.006    0.006 {built-in method builtins.sum}\n",
      "        4    0.000    0.000    0.000    0.000 {built-in method builtins.print}\n",
      "        1    0.000    0.000    0.000    0.000 ch2_wt_decorators.py:4(timefn)\n",
      "        1    0.000    0.000    0.000    0.000 /usr/lib/python3.10/functools.py:35(update_wrapper)\n",
      "        4    0.000    0.000    0.000    0.000 {built-in method builtins.len}\n",
      "        4    0.000    0.000    0.000    0.000 {built-in method time.time}\n",
      "        1    0.000    0.000    0.000    0.000 /usr/lib/python3.10/functools.py:65(wraps)\n",
      "        1    0.000    0.000    0.000    0.000 {method 'disable' of '_lsprof.Profiler' objects}\n",
      "        7    0.000    0.000    0.000    0.000 {built-in method builtins.getattr}\n",
      "        5    0.000    0.000    0.000    0.000 {built-in method builtins.setattr}\n",
      "        1    0.000    0.000    0.000    0.000 {method 'update' of 'dict' objects}\n",
      "\n",
      "\n"
     ]
    },
    {
     "data": {
      "text/plain": [
       "<pstats.Stats at 0x7fda0ffcc4f0>"
      ]
     },
     "execution_count": 3,
     "metadata": {},
     "output_type": "execute_result"
    }
   ],
   "source": [
    "p.print_stats()"
   ]
  },
  {
   "cell_type": "code",
   "execution_count": 4,
   "metadata": {},
   "outputs": [
    {
     "name": "stdout",
     "output_type": "stream",
     "text": [
      "   Ordered by: cumulative time\n",
      "\n",
      "Function                                                was called by...\n",
      "                                                            ncalls  tottime  cumtime\n",
      "{built-in method builtins.exec}                         <- \n",
      "ch2_wt_decorators.py:1(<module>)                        <-       1    0.022    9.406  {built-in method builtins.exec}\n",
      "ch2_wt_decorators.py:28(calc_pure_python)               <-       1    0.417    9.384  ch2_wt_decorators.py:1(<module>)\n",
      "ch2_wt_decorators.py:5(measure_time)                    <-       1    0.000    8.872  ch2_wt_decorators.py:28(calc_pure_python)\n",
      "ch2_wt_decorators.py:14(calculate_z_serial_purepython)  <-       1    6.702    8.872  ch2_wt_decorators.py:5(measure_time)\n",
      "{built-in method builtins.abs}                          <- 34219980    2.169    2.169  ch2_wt_decorators.py:14(calculate_z_serial_purepython)\n",
      "{method 'append' of 'list' objects}                     <- 2002000    0.089    0.089  ch2_wt_decorators.py:28(calc_pure_python)\n",
      "{built-in method builtins.sum}                          <-       1    0.006    0.006  ch2_wt_decorators.py:28(calc_pure_python)\n",
      "{built-in method builtins.print}                        <-       1    0.000    0.000  ch2_wt_decorators.py:5(measure_time)\n",
      "                                                                 3    0.000    0.000  ch2_wt_decorators.py:28(calc_pure_python)\n",
      "ch2_wt_decorators.py:4(timefn)                          <-       1    0.000    0.000  ch2_wt_decorators.py:1(<module>)\n",
      "/usr/lib/python3.10/functools.py:35(update_wrapper)     <-       1    0.000    0.000  ch2_wt_decorators.py:4(timefn)\n",
      "{built-in method builtins.len}                          <-       2    0.000    0.000  ch2_wt_decorators.py:14(calculate_z_serial_purepython)\n",
      "                                                                 2    0.000    0.000  ch2_wt_decorators.py:28(calc_pure_python)\n",
      "{built-in method time.time}                             <-       2    0.000    0.000  ch2_wt_decorators.py:5(measure_time)\n",
      "                                                                 2    0.000    0.000  ch2_wt_decorators.py:28(calc_pure_python)\n",
      "/usr/lib/python3.10/functools.py:65(wraps)              <-       1    0.000    0.000  ch2_wt_decorators.py:4(timefn)\n",
      "{method 'disable' of '_lsprof.Profiler' objects}        <- \n",
      "{built-in method builtins.getattr}                      <-       7    0.000    0.000  /usr/lib/python3.10/functools.py:35(update_wrapper)\n",
      "{built-in method builtins.setattr}                      <-       5    0.000    0.000  /usr/lib/python3.10/functools.py:35(update_wrapper)\n",
      "{method 'update' of 'dict' objects}                     <-       1    0.000    0.000  /usr/lib/python3.10/functools.py:35(update_wrapper)\n",
      "\n",
      "\n"
     ]
    },
    {
     "data": {
      "text/plain": [
       "<pstats.Stats at 0x7fda0ffcc4f0>"
      ]
     },
     "execution_count": 4,
     "metadata": {},
     "output_type": "execute_result"
    }
   ],
   "source": [
    "p.print_callers()"
   ]
  },
  {
   "cell_type": "code",
   "execution_count": 5,
   "metadata": {},
   "outputs": [
    {
     "name": "stdout",
     "output_type": "stream",
     "text": [
      "   Ordered by: cumulative time\n",
      "\n",
      "Function                                                called...\n",
      "                                                            ncalls  tottime  cumtime\n",
      "{built-in method builtins.exec}                         ->       1    0.022    9.406  ch2_wt_decorators.py:1(<module>)\n",
      "ch2_wt_decorators.py:1(<module>)                        ->       1    0.000    0.000  ch2_wt_decorators.py:4(timefn)\n",
      "                                                                 1    0.417    9.384  ch2_wt_decorators.py:28(calc_pure_python)\n",
      "ch2_wt_decorators.py:28(calc_pure_python)               ->       1    0.000    8.872  ch2_wt_decorators.py:5(measure_time)\n",
      "                                                                 2    0.000    0.000  {built-in method builtins.len}\n",
      "                                                                 3    0.000    0.000  {built-in method builtins.print}\n",
      "                                                                 1    0.006    0.006  {built-in method builtins.sum}\n",
      "                                                                 2    0.000    0.000  {built-in method time.time}\n",
      "                                                           2002000    0.089    0.089  {method 'append' of 'list' objects}\n",
      "ch2_wt_decorators.py:5(measure_time)                    ->       1    6.702    8.872  ch2_wt_decorators.py:14(calculate_z_serial_purepython)\n",
      "                                                                 1    0.000    0.000  {built-in method builtins.print}\n",
      "                                                                 2    0.000    0.000  {built-in method time.time}\n",
      "ch2_wt_decorators.py:14(calculate_z_serial_purepython)  -> 34219980    2.169    2.169  {built-in method builtins.abs}\n",
      "                                                                 2    0.000    0.000  {built-in method builtins.len}\n",
      "{built-in method builtins.abs}                          -> \n",
      "{method 'append' of 'list' objects}                     -> \n",
      "{built-in method builtins.sum}                          -> \n",
      "{built-in method builtins.print}                        -> \n",
      "ch2_wt_decorators.py:4(timefn)                          ->       1    0.000    0.000  /usr/lib/python3.10/functools.py:35(update_wrapper)\n",
      "                                                                 1    0.000    0.000  /usr/lib/python3.10/functools.py:65(wraps)\n",
      "/usr/lib/python3.10/functools.py:35(update_wrapper)     ->       7    0.000    0.000  {built-in method builtins.getattr}\n",
      "                                                                 5    0.000    0.000  {built-in method builtins.setattr}\n",
      "                                                                 1    0.000    0.000  {method 'update' of 'dict' objects}\n",
      "{built-in method builtins.len}                          -> \n",
      "{built-in method time.time}                             -> \n",
      "/usr/lib/python3.10/functools.py:65(wraps)              -> \n",
      "{method 'disable' of '_lsprof.Profiler' objects}        -> \n",
      "{built-in method builtins.getattr}                      -> \n",
      "{built-in method builtins.setattr}                      -> \n",
      "{method 'update' of 'dict' objects}                     -> \n",
      "\n",
      "\n"
     ]
    },
    {
     "data": {
      "text/plain": [
       "<pstats.Stats at 0x7fda0ffcc4f0>"
      ]
     },
     "execution_count": 5,
     "metadata": {},
     "output_type": "execute_result"
    }
   ],
   "source": [
    "p.print_callees()"
   ]
  },
  {
   "cell_type": "code",
   "execution_count": null,
   "metadata": {},
   "outputs": [],
   "source": []
  }
 ],
 "metadata": {
  "kernelspec": {
   "display_name": "base",
   "language": "python",
   "name": "python3"
  },
  "language_info": {
   "codemirror_mode": {
    "name": "ipython",
    "version": 3
   },
   "file_extension": ".py",
   "mimetype": "text/x-python",
   "name": "python",
   "nbconvert_exporter": "python",
   "pygments_lexer": "ipython3",
   "version": "3.10.10"
  },
  "orig_nbformat": 4
 },
 "nbformat": 4,
 "nbformat_minor": 2
}
